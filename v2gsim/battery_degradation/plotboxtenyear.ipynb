{
 "cells": [
  {
   "cell_type": "code",
   "execution_count": 21,
   "metadata": {},
   "outputs": [],
   "source": [
    "from __future__ import division\n",
    "\n",
    "# General imports\n",
    "import os\n",
    "import sys\n",
    "from IPython.display import clear_output\n",
    "\n",
    "# Import V2G-Sim\n",
    "v2gSimPath = os.path.join(os.getcwd(), \"../../v2g_sim\")\n",
    "sys.path.append(os.path.join(v2gSimPath))\n",
    "import scipy.io as sio\n",
    "import pdb, traceback, sys\n",
    "import pandas as pd\n",
    "import seaborn as sns\n",
    "\n",
    "os.system('cls' if os.name == 'nt' else 'clear')\n",
    "excelFilename = os.path.join(v2gSimPath, os.path.join(\"..\", \"battery_degradation\",\"forpandas.xlsx\"))\n",
    "\n",
    "cool = pd.read_excel('/Users/wangdai/V2G-sim2/v2g_sim/battery_degradation/forpandas.xlsx', header = None)\n",
    "cool.columns=['drivingonly', 'drv2g', 'renewablev1g', 'renewablev2g', 'frequencyregulation']\n",
    "#print cool\n",
    "ax = sns.boxplot(cool[['drivingonly', 'drv2g', 'renewablev1g', 'renewablev2g', 'frequencyregulation']])"
   ]
  },
  {
   "cell_type": "code",
   "execution_count": 13,
   "metadata": {},
   "outputs": [
    {
     "ename": "TypeError",
     "evalue": "__init__() got an unexpected keyword argument 'rows'",
     "output_type": "error",
     "traceback": [
      "\u001b[0;31m---------------------------------------------------------------------------\u001b[0m",
      "\u001b[0;31mTypeError\u001b[0m                                 Traceback (most recent call last)",
      "\u001b[0;32m<ipython-input-13-e1707cb309ad>\u001b[0m in \u001b[0;36m<module>\u001b[0;34m()\u001b[0m\n\u001b[1;32m      9\u001b[0m \u001b[0;34m[\u001b[0m\u001b[0;36m9\u001b[0m\u001b[0;34m,\u001b[0m \u001b[0;36m3\u001b[0m\u001b[0;34m,\u001b[0m \u001b[0;36m4\u001b[0m\u001b[0;34m,\u001b[0m \u001b[0;36m6\u001b[0m\u001b[0;34m,\u001b[0m \u001b[0;36m2\u001b[0m\u001b[0;34m]\u001b[0m\u001b[0;34m,\u001b[0m\u001b[0;34m\u001b[0m\u001b[0m\n\u001b[1;32m     10\u001b[0m \u001b[0;34m[\u001b[0m\u001b[0;36m3\u001b[0m\u001b[0;34m,\u001b[0m \u001b[0;36m3\u001b[0m\u001b[0;34m,\u001b[0m \u001b[0;36m4\u001b[0m\u001b[0;34m,\u001b[0m \u001b[0;36m4\u001b[0m\u001b[0;34m,\u001b[0m \u001b[0;36m1\u001b[0m\u001b[0;34m]\u001b[0m\u001b[0;34m\u001b[0m\u001b[0m\n\u001b[0;32m---> 11\u001b[0;31m ], columns=['a1', 'a2', 'a3', 'a4', 'b'],rows=['a2','a3','a4','a5','a8','a9'])\n\u001b[0m\u001b[1;32m     12\u001b[0m \u001b[0;32mprint\u001b[0m \u001b[0mdf\u001b[0m\u001b[0;34m\u001b[0m\u001b[0m\n\u001b[1;32m     13\u001b[0m \u001b[0;31m#Plotting by seaborn\u001b[0m\u001b[0;34m\u001b[0m\u001b[0;34m\u001b[0m\u001b[0m\n",
      "\u001b[0;31mTypeError\u001b[0m: __init__() got an unexpected keyword argument 'rows'"
     ]
    }
   ],
   "source": [
    "import seaborn as sns\n",
    "import pandas as pd\n",
    "df = pd.DataFrame(\n",
    "[\n",
    "[2, 4, 5, 6, 1],\n",
    "[4, 5, 6, 7, 2],\n",
    "[5, 4, 5, 5, 1],\n",
    "[10, 4, 7, 8, 2],\n",
    "[9, 3, 4, 6, 2],\n",
    "[3, 3, 4, 4, 1]\n",
    "], columns=['a1', 'a2', 'a3', 'a4', 'b'],rows=['a2','a3','a4','a5','a8','a9'])\n",
    "print df\n",
    "#Plotting by seaborn\n",
    "#sns.boxplot(df[['a1','a2', 'a3', 'a4']], groupby=df.b)"
   ]
  },
  {
   "cell_type": "code",
   "execution_count": null,
   "metadata": {},
   "outputs": [],
   "source": [
    ""
   ]
  }
 ],
 "metadata": {
  "kernelspec": {
   "display_name": "Python 2",
   "language": "python",
   "name": "python2"
  },
  "language_info": {
   "codemirror_mode": {
    "name": "ipython",
    "version": 2.0
   },
   "file_extension": ".py",
   "mimetype": "text/x-python",
   "name": "python",
   "nbconvert_exporter": "python",
   "pygments_lexer": "ipython2",
   "version": "2.7.11"
  }
 },
 "nbformat": 4,
 "nbformat_minor": 0
}