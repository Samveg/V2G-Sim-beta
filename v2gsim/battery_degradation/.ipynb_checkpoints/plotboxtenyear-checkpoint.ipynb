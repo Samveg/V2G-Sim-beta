{
 "cells": [
  {
   "cell_type": "code",
   "execution_count": null,
   "metadata": {
    "collapsed": true
   },
   "outputs": [],
   "source": [
    "from __future__ import division\n",
    "\n",
    "import os\n",
    "import sys\n",
    "\n",
    "sys.path.append(os.path.join(os.path.dirname(__file__), \"../../v2g_sim\"))\n",
    "import core\n",
    "import model\n",
    "import itinerary.load\n",
    "import itinerary.itineraryBin\n",
    "import itinerary.create_vehicles\n",
    "import result.itinerary\n",
    "import result.vehicle_consumption\n",
    "import result.visualization.d3\n",
    "import result.visualization.matp\n",
    "import driving.detailed.init_model\n",
    "import driving.drivecycle.generator\n",
    "import battery_degradation.Fixedexample\n",
    "import matplotlib.pyplot as plt\n",
    "import scipy.io as sio\n",
    "import pdb, traceback, sys\n",
    "import pandas as pd\n",
    "\n",
    "os.system('cls' if os.name == 'nt' else 'clear')\n",
    "\n",
    "\n",
    "data = pd.read_csv('output_list.txt', header = None)\n",
    "print data"
   ]
  }
 ],
 "metadata": {
  "kernelspec": {
   "display_name": "Python 2",
   "language": "python",
   "name": "python2"
  },
  "language_info": {
   "codemirror_mode": {
    "name": "ipython",
    "version": 2
   },
   "file_extension": ".py",
   "mimetype": "text/x-python",
   "name": "python",
   "nbconvert_exporter": "python",
   "pygments_lexer": "ipython2",
   "version": "2.7.11"
  }
 },
 "nbformat": 4,
 "nbformat_minor": 0
}
